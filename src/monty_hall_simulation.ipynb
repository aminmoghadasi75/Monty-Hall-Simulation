{
 "cells": [
  {
   "cell_type": "markdown",
   "metadata": {},
   "source": [
    "# create a function which get a mode and return True or False\n",
    "- 1) the mode is contain switch and stay .\n",
    "    -       if we set switch : our selected door will switch to another door.\n",
    "    -       if set stay : our selected door will stay.\n",
    "- 2) the goal of this game is find the car."
   ]
  },
  {
   "cell_type": "code",
   "execution_count": 8,
   "metadata": {},
   "outputs": [],
   "source": [
    "\n"
   ]
  },
  {
   "cell_type": "code",
   "execution_count": 21,
   "metadata": {},
   "outputs": [],
   "source": [
    "import random\n",
    "from collections import Counter\n",
    "def monty_hall(mode : str ='switch' )->bool :\n",
    "    option_1 = ['goat', 'goat', 'car']\n",
    "    doors = {}\n",
    "    for i in range(len(option_1)) :\n",
    "        x = random.choice(option_1)\n",
    "        doors[f'door{i+1}'] = x\n",
    "        option_1.remove(x)\n",
    "    pick_1 = random.choice(list(doors.keys()))\n",
    "    doors_2 = doors.copy()\n",
    "    doors_2.pop(pick_1)\n",
    "    removed_door = [key for key, value in doors_2.items() if value == 'goat']\n",
    "    del doors[random.choice(removed_door)]\n",
    "    if mode.lower() == 'switch' :\n",
    "        del doors[pick_1]\n",
    "        pick_2 = list(doors.values())[0]\n",
    "    elif mode.lower() == 'stay' :\n",
    "        pick_2 = doors[pick_1]\n",
    "    else :\n",
    "        print('Your mode most be switch or stay .')\n",
    "    return False if pick_2 == 'goat' else True\n"
   ]
  },
  {
   "cell_type": "code",
   "execution_count": 22,
   "metadata": {},
   "outputs": [
    {
     "data": {
      "text/plain": [
       "True"
      ]
     },
     "execution_count": 22,
     "metadata": {},
     "output_type": "execute_result"
    }
   ],
   "source": [
    "monty_hall(mode= 'switch')"
   ]
  },
  {
   "cell_type": "code",
   "execution_count": 20,
   "metadata": {},
   "outputs": [
    {
     "data": {
      "text/plain": [
       "Counter({False: 645, True: 355})"
      ]
     },
     "execution_count": 20,
     "metadata": {},
     "output_type": "execute_result"
    }
   ],
   "source": [
    "my_list=list()\n",
    "for _ in range(1000):\n",
    "    my_list.append(monty_hall(mode='stay'))\n",
    "Counter(my_list)\n"
   ]
  },
  {
   "cell_type": "code",
   "execution_count": 23,
   "metadata": {},
   "outputs": [],
   "source": [
    "import random\n",
    "from collections import Counter\n",
    "\n",
    "def monty_hall(mode: str = 'switch') -> bool:\n",
    "    # Three options: 2 goats and 1 car\n",
    "    options = ['goat', 'goat', 'car']\n",
    "\n",
    "    # Create a dictionary representing the doors\n",
    "    doors = {}\n",
    "\n",
    "    # Randomly assign the options behind the doors\n",
    "    for i in range(len(options)):\n",
    "        option = random.choice(options)\n",
    "        doors[f'door{i+1}'] = option\n",
    "        options.remove(option)\n",
    "\n",
    "    # First pick by the player\n",
    "    first_pick = random.choice(list(doors.keys()))\n",
    "\n",
    "    # Create a copy of doors to simulate Monty Hall's action\n",
    "    doors_simulation = doors.copy()\n",
    "\n",
    "    # Remove the picked door from the simulation\n",
    "    doors_simulation.pop(first_pick)\n",
    "\n",
    "    # Identify the door opened by Monty Hall (which contains a goat)\n",
    "    revealed_door = [key for key, value in doors_simulation.items() if value == 'goat']\n",
    "\n",
    "    # Monty Hall opens a door with a goat\n",
    "    doors_after_reveal = doors.copy()\n",
    "    del doors_after_reveal[random.choice(revealed_door)]\n",
    "\n",
    "    # Switch or stay based on the chosen mode\n",
    "    if mode.lower() == 'switch':\n",
    "        # Remove the initially picked door\n",
    "        del doors_after_reveal[first_pick]\n",
    "        # Final pick after switching\n",
    "        second_pick = list(doors_after_reveal.values())[0]\n",
    "    elif mode.lower() == 'stay':\n",
    "        # Player stays with the initial pick\n",
    "        second_pick = doors[first_pick]\n",
    "    else:\n",
    "        # Mode selection error handling\n",
    "        print('Your mode must be switch or stay.')\n",
    "        return None  # Or handle the error accordingly\n",
    "\n",
    "    # Determine if the final pick is the car or not (True if car, False if goat)\n",
    "    return False if second_pick == 'goat' else True\n"
   ]
  },
  {
   "cell_type": "code",
   "execution_count": 34,
   "metadata": {},
   "outputs": [
    {
     "data": {
      "text/plain": [
       "True"
      ]
     },
     "execution_count": 34,
     "metadata": {},
     "output_type": "execute_result"
    }
   ],
   "source": [
    "monty_hall(mode='switch')"
   ]
  },
  {
   "cell_type": "code",
   "execution_count": 47,
   "metadata": {},
   "outputs": [],
   "source": [
    "def simulate_monty_hall(times: int = 1, mode='switch') -> tuple :\n",
    "   # Counter to track the count of wins(car) and losses(goat)\n",
    "   return Counter([monty_hall(mode=mode) for _ in range(times)])"
   ]
  },
  {
   "cell_type": "code",
   "execution_count": 54,
   "metadata": {},
   "outputs": [],
   "source": [
    "x = simulate_monty_hall(times=1000, mode='switch')"
   ]
  },
  {
   "cell_type": "code",
   "execution_count": 55,
   "metadata": {},
   "outputs": [
    {
     "data": {
      "text/plain": [
       "Counter({True: 664, False: 336})"
      ]
     },
     "execution_count": 55,
     "metadata": {},
     "output_type": "execute_result"
    }
   ],
   "source": [
    "x"
   ]
  },
  {
   "cell_type": "code",
   "execution_count": 57,
   "metadata": {},
   "outputs": [
    {
     "data": {
      "text/plain": [
       "664"
      ]
     },
     "execution_count": 57,
     "metadata": {},
     "output_type": "execute_result"
    }
   ],
   "source": [
    "x[1]"
   ]
  },
  {
   "cell_type": "code",
   "execution_count": null,
   "metadata": {},
   "outputs": [],
   "source": []
  }
 ],
 "metadata": {
  "kernelspec": {
   "display_name": "machine_learning",
   "language": "python",
   "name": "python3"
  },
  "language_info": {
   "codemirror_mode": {
    "name": "ipython",
    "version": 3
   },
   "file_extension": ".py",
   "mimetype": "text/x-python",
   "name": "python",
   "nbconvert_exporter": "python",
   "pygments_lexer": "ipython3",
   "version": "3.10.13"
  }
 },
 "nbformat": 4,
 "nbformat_minor": 2
}
